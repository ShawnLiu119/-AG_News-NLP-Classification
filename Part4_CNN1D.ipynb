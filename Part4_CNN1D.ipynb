{
  "cells": [
    {
      "cell_type": "code",
      "execution_count": 2,
      "metadata": {
        "id": "4O7KB7sT7DGm"
      },
      "outputs": [],
      "source": [
        "#################################################################################################\n",
        "#####################  Assignment 3 MSDS 458 - Analyze AG_News ##################################\n",
        "#########################      AUthor: Siyuan Liu      ##########################################\n",
        "##########################   Date: 2022/2/14   ##################################################\n",
        "#################################################################################################"
      ]
    },
    {
      "cell_type": "code",
      "execution_count": 3,
      "metadata": {
        "id": "sNb5zpg27udA"
      },
      "outputs": [],
      "source": [
        "import datetime\n",
        "from packaging import version\n",
        "from collections import Counter\n",
        "import numpy as np\n",
        "import pandas as pd\n",
        "import time\n",
        "\n",
        "import matplotlib.pyplot as plt\n",
        "import matplotlib as mpl\n",
        "import seaborn as sns\n",
        "\n",
        "from sklearn.metrics import confusion_matrix, classification_report\n",
        "from sklearn.preprocessing import StandardScaler\n",
        "from sklearn.decomposition import PCA\n",
        "from sklearn.manifold import TSNE\n",
        "from sklearn.ensemble import RandomForestClassifier\n",
        "from sklearn.metrics import mean_squared_error as MSE\n",
        "from sklearn.metrics import accuracy_score\n",
        "\n",
        "import tensorflow as tf\n",
        "from tensorflow import keras\n",
        "import tensorflow_datasets as tfds"
      ]
    },
    {
      "cell_type": "code",
      "execution_count": 4,
      "metadata": {
        "id": "1qQ0eBzu810h"
      },
      "outputs": [],
      "source": [
        "%matplotlib inline\n",
        "np.set_printoptions(precision=3, suppress=True)"
      ]
    },
    {
      "cell_type": "markdown",
      "metadata": {
        "id": "UQZa8lfl9SK0"
      },
      "source": [
        "### Verify TensorFlow Version and Keras Version"
      ]
    },
    {
      "cell_type": "code",
      "execution_count": 5,
      "metadata": {
        "colab": {
          "base_uri": "https://localhost:8080/"
        },
        "id": "Bs7jAv7e85s5",
        "outputId": "f8c46a53-4498-491a-bd19-2a8cf2a9924c"
      },
      "outputs": [
        {
          "output_type": "stream",
          "name": "stdout",
          "text": [
            "This notebook requires TensorFlow 2.0 or above\n",
            "TensorFlow version:  2.8.0\n"
          ]
        }
      ],
      "source": [
        "print(\"This notebook requires TensorFlow 2.0 or above\")\n",
        "print(\"TensorFlow version: \", tf.__version__)\n",
        "assert version.parse(tf.__version__).release[0] >=2"
      ]
    },
    {
      "cell_type": "code",
      "execution_count": 6,
      "metadata": {
        "colab": {
          "base_uri": "https://localhost:8080/"
        },
        "id": "R8iG1NU69WXe",
        "outputId": "caec3759-566c-4cfe-c02b-fc676862654c"
      },
      "outputs": [
        {
          "output_type": "stream",
          "name": "stdout",
          "text": [
            "Keras version:  2.8.0\n"
          ]
        }
      ],
      "source": [
        "print(\"Keras version: \", keras.__version__)"
      ]
    },
    {
      "cell_type": "markdown",
      "metadata": {
        "id": "wHSsa6-S9gEs"
      },
      "source": [
        "### Functions For Research Assignment "
      ]
    },
    {
      "cell_type": "code",
      "execution_count": 7,
      "metadata": {
        "id": "PnZluOSW9dU3"
      },
      "outputs": [],
      "source": [
        "def print_validation_report(test_labels, predictions):\n",
        "    print(\"Classification Report\")\n",
        "    print(classification_report(test_labels, predictions))\n",
        "    print('Accuracy Score: {}'.format(accuracy_score(test_labels, predictions)))\n",
        "    print('Root Mean Square Error: {}'.format(np.sqrt(MSE(test_labels, predictions))))"
      ]
    },
    {
      "cell_type": "code",
      "execution_count": 8,
      "metadata": {
        "id": "UjHgApDD9nzZ"
      },
      "outputs": [],
      "source": [
        "def plot_confusion_matrix(y_true, y_pred):\n",
        "    mtx = confusion_matrix(y_true, y_pred)\n",
        "    fig, ax = plt.subplots(figsize=(8,8))\n",
        "    sns.heatmap(mtx, annot=True, fmt='d', linewidths=.75,  cbar=False, ax=ax,cmap='Blues',linecolor='white')\n",
        "    #  square=True,\n",
        "    plt.ylabel('true label')\n",
        "    plt.xlabel('predicted label')"
      ]
    },
    {
      "cell_type": "code",
      "execution_count": 9,
      "metadata": {
        "id": "PriXhXLn9wWc"
      },
      "outputs": [],
      "source": [
        "def plot_graphs(history, metric):\n",
        "  plt.plot(history.history[metric])\n",
        "  plt.plot(history.history['val_'+metric], '')\n",
        "  plt.xlabel(\"Epochs\")\n",
        "  plt.ylabel(metric)\n",
        "  plt.legend([metric, 'val_'+metric])"
      ]
    },
    {
      "cell_type": "markdown",
      "metadata": {
        "id": "FLeZJVWP-O1W"
      },
      "source": [
        "### Loading AG TensorFlow Dataset"
      ]
    },
    {
      "cell_type": "code",
      "execution_count": 10,
      "metadata": {
        "colab": {
          "base_uri": "https://localhost:8080/"
        },
        "id": "NOmRboC7-TQh",
        "outputId": "dcd35904-006b-42ee-9e63-c61c3204335f"
      },
      "outputs": [
        {
          "output_type": "stream",
          "name": "stdout",
          "text": [
            "2022-02-21 01:06:02.897991: E tensorflow/stream_executor/cuda/cuda_driver.cc:271] failed call to cuInit: CUDA_ERROR_NO_DEVICE: no CUDA-capable device is detected\n",
            "I0221 01:06:02.898276 139915481446272 download_and_prepare.py:200] Running download_and_prepare for dataset(s):\n",
            "ag_news_subset\n",
            "I0221 01:06:03.050431 139915481446272 dataset_info.py:434] Load pre-computed DatasetInfo (eg: splits, num examples,...) from GCS: ag_news_subset/1.0.0\n",
            "I0221 01:06:03.215208 139915481446272 dataset_info.py:361] Load dataset info from /tmp/tmp_whbm4n6tfds\n",
            "I0221 01:06:03.217279 139915481446272 download_and_prepare.py:138] download_and_prepare for dataset ag_news_subset/1.0.0...\n",
            "I0221 01:06:03.217718 139915481446272 dataset_builder.py:357] Generating dataset ag_news_subset (/root/tensorflow_datasets/ag_news_subset/1.0.0)\n",
            "\u001b[1mDownloading and preparing dataset ag_news_subset/1.0.0 (download: 11.24 MiB, generated: 35.79 MiB, total: 47.03 MiB) to /root/tensorflow_datasets/ag_news_subset/1.0.0...\u001b[0m\n",
            "Dl Completed...: 0 url [00:00, ? url/s]\n",
            "Dl Size...: 0 MiB [00:00, ? MiB/s]\u001b[A\n",
            "\n",
            "Extraction completed...: 0 file [00:00, ? file/s]\u001b[A\u001b[AI0221 01:06:03.483439 139915481446272 download_manager.py:476] Downloading https://drive.google.com/uc?export=download&id=0Bz8a_Dbh9QhbUDNpeUdjb0wxRms into /root/tensorflow_datasets/downloads/ucexport_download_id_0Bz8a_Dbh9QhbUDNpeUdjb0wxj4g1umFAV8OV-uDwxSJR0LdxO_k1jxMuFWwAfNX9jos.tmp.58fb6b525c0f45aeb5ee050501cf7831...\n",
            "Dl Completed...:   0% 0/1 [00:00<?, ? url/s]\n",
            "Dl Size...: 0 MiB [00:00, ? MiB/s]\u001b[A\n",
            "\n",
            "Dl Completed...:   0% 0/1 [00:13<?, ? url/s]\n",
            "Dl Size...:   0% 0/11 [00:13<?, ? MiB/s]\u001b[A\n",
            "\n",
            "Extraction completed...: 0 file [00:13, ? file/s]\u001b[A\u001b[A\n",
            "Dl Completed...:   0% 0/1 [00:13<?, ? url/s]\n",
            "Dl Size...:   9% 1/11 [00:13<02:14, 13.45s/ MiB]\u001b[A\n",
            "\n",
            "Dl Completed...:   0% 0/1 [00:13<?, ? url/s]\n",
            "Dl Size...:  18% 2/11 [00:13<02:01, 13.45s/ MiB]\u001b[A\n",
            "\n",
            "Dl Completed...:   0% 0/1 [00:13<?, ? url/s]\n",
            "Dl Size...:  27% 3/11 [00:13<01:47, 13.45s/ MiB]\u001b[A\n",
            "\n",
            "Dl Completed...:   0% 0/1 [00:13<?, ? url/s]\n",
            "Dl Size...:  36% 4/11 [00:13<01:34, 13.45s/ MiB]\u001b[A\n",
            "\n",
            "Dl Completed...:   0% 0/1 [00:13<?, ? url/s]\n",
            "Dl Size...:  45% 5/11 [00:13<01:20, 13.45s/ MiB]\u001b[A\n",
            "\n",
            "Dl Completed...:   0% 0/1 [00:13<?, ? url/s]\n",
            "Dl Size...:  55% 6/11 [00:13<01:07, 13.45s/ MiB]\u001b[A\n",
            "\n",
            "Dl Completed...:   0% 0/1 [00:13<?, ? url/s]\n",
            "Dl Size...:  64% 7/11 [00:13<00:53, 13.45s/ MiB]\u001b[A\n",
            "\n",
            "Dl Completed...:   0% 0/1 [00:13<?, ? url/s]\n",
            "Dl Size...:  73% 8/11 [00:13<00:40, 13.45s/ MiB]\u001b[A\n",
            "\n",
            "Dl Completed...:   0% 0/1 [00:13<?, ? url/s]\n",
            "Dl Size...:  82% 9/11 [00:13<00:26, 13.45s/ MiB]\u001b[A\n",
            "\n",
            "Dl Completed...:   0% 0/1 [00:13<?, ? url/s]\n",
            "Dl Size...:  91% 10/11 [00:13<00:13, 13.45s/ MiB]\u001b[A\n",
            "\n",
            "Dl Completed...:   0% 0/1 [00:13<?, ? url/s]\n",
            "Dl Size...: 100% 11/11 [00:13<00:00, 13.45s/ MiB]\u001b[A\n",
            "\n",
            "Dl Completed...: 100% 1/1 [00:13<00:00, 13.56s/ url]\n",
            "Dl Size...: 100% 11/11 [00:13<00:00, 13.45s/ MiB]\u001b[A\n",
            "\n",
            "Dl Completed...: 100% 1/1 [00:13<00:00, 13.56s/ url]\n",
            "Dl Size...: 100% 11/11 [00:13<00:00, 13.45s/ MiB]\u001b[A\n",
            "\n",
            "Extraction completed...:   0% 0/1 [00:13<?, ? file/s]\u001b[A\u001b[A\n",
            "\n",
            "Dl Completed...: 100% 1/1 [00:13<00:00, 13.56s/ url]\n",
            "Dl Size...: 100% 11/11 [00:13<00:00, 13.45s/ MiB]\u001b[A\n",
            "\n",
            "Extraction completed...: 100% 1/1 [00:13<00:00, 13.93s/ file]\u001b[A\u001b[A\n",
            "Extraction completed...: 100% 1/1 [00:13<00:00, 13.93s/ file]\n",
            "\n",
            "Dl Size...: 100% 11/11 [00:13<00:00,  1.27s/ MiB]\n",
            "\n",
            "Dl Completed...: 100% 1/1 [00:13<00:00, 13.93s/ url]\n",
            "I0221 01:06:17.408798 139915481446272 dataset_builder.py:970] Generating split train\n",
            "Shuffling and writing examples to /root/tensorflow_datasets/ag_news_subset/1.0.0.incompleteLPEHWX/ag_news_subset-train.tfrecord\n",
            " 70% 84308/120000 [00:00<00:00, 292069.57 examples/s]I0221 01:06:41.898151 139915481446272 tfrecords_writer.py:226] Done writing /root/tensorflow_datasets/ag_news_subset/1.0.0.incompleteLPEHWX/ag_news_subset-train.tfrecord. Shard lengths: [120000]\n",
            "I0221 01:06:41.915779 139915481446272 dataset_builder.py:970] Generating split test\n",
            "Shuffling and writing examples to /root/tensorflow_datasets/ag_news_subset/1.0.0.incompleteLPEHWX/ag_news_subset-test.tfrecord\n",
            "  0% 0/7600 [00:00<?, ? examples/s]I0221 01:06:43.442022 139915481446272 tfrecords_writer.py:226] Done writing /root/tensorflow_datasets/ag_news_subset/1.0.0.incompleteLPEHWX/ag_news_subset-test.tfrecord. Shard lengths: [7600]\n",
            "I0221 01:06:43.444542 139915481446272 dataset_builder.py:412] Skipping computing stats for mode ComputeStatsMode.SKIP.\n",
            "\u001b[1mDataset ag_news_subset downloaded and prepared to /root/tensorflow_datasets/ag_news_subset/1.0.0. Subsequent calls will reuse this data.\u001b[0m\n",
            "\u001b[1mname: \"ag_news_subset\"\n",
            "description: \"AG is a collection of more than 1 million news articles.\\nNews articles have been gathered from more than 2000  news sources by ComeToMyHead in more than 1 year of activity.\\nComeToMyHead is an academic news search engine which has been running since July, 2004.\\nThe dataset is provided by the academic comunity for research purposes in data mining (clustering, classification, etc),\\ninformation retrieval (ranking, search, etc), xml, data compression, data streaming,\\nand any other non-commercial activity.\\nFor more information, please refer to the link http://www.di.unipi.it/~gulli/AG_corpus_of_news_articles.html .\\n\\nThe AG\\'s news topic classification dataset is constructed by Xiang Zhang (xiang.zhang@nyu.edu) from the dataset above.\\nIt is used as a text classification benchmark in the following paper:\\nXiang Zhang, Junbo Zhao, Yann LeCun. Character-level Convolutional Networks for Text Classification. Advances in Neural Information Processing Systems 28 (NIPS 2015).\\n\\nThe AG\\'s news topic classification dataset is constructed by choosing 4 largest classes from the original corpus.\\nEach class contains 30,000 training samples and 1,900 testing samples.\\nThe total number of training samples is 120,000 and testing 7,600.\"\n",
            "citation: \"@misc{zhang2015characterlevel,\\n    title={Character-level Convolutional Networks for Text Classification},\\n    author={Xiang Zhang and Junbo Zhao and Yann LeCun},\\n    year={2015},\\n    eprint={1509.01626},\\n    archivePrefix={arXiv},\\n    primaryClass={cs.LG}\\n}\"\n",
            "location {\n",
            "  urls: \"https://arxiv.org/abs/1509.01626\"\n",
            "}\n",
            "splits {\n",
            "  name: \"test\"\n",
            "  shard_lengths: 7600\n",
            "  num_bytes: 2226751\n",
            "}\n",
            "splits {\n",
            "  name: \"train\"\n",
            "  shard_lengths: 120000\n",
            "  num_bytes: 35301386\n",
            "}\n",
            "supervised_keys {\n",
            "  input: \"description\"\n",
            "  output: \"label\"\n",
            "}\n",
            "version: \"1.0.0\"\n",
            "download_size: 11784327\n",
            "\u001b[0m\n"
          ]
        }
      ],
      "source": [
        "#register  ag_news_subset so that tfds.load doesn't generate a checksum (mismatch) error\n",
        "!python -m tensorflow_datasets.scripts.download_and_prepare --register_checksums --datasets=ag_news_subset\n",
        "\n",
        "# https://www.tensorflow.org/datasets/splits\n",
        "# The full `train` and `test` splits, interleaved together.\n",
        "ri = tfds.core.ReadInstruction('train') + tfds.core.ReadInstruction('test')\n",
        "dataset_all, info = tfds.load('ag_news_subset', with_info=True,  split=ri, as_supervised=True)"
      ]
    },
    {
      "cell_type": "markdown",
      "metadata": {
        "id": "XmMHQ0RV-6_u"
      },
      "source": [
        "###  Exploratory Analysis AG News Subset"
      ]
    },
    {
      "cell_type": "code",
      "execution_count": 11,
      "metadata": {
        "colab": {
          "base_uri": "https://localhost:8080/"
        },
        "id": "cHY9kmkr-8YX",
        "outputId": "e7b4aa12-f0d5-4eed-ef84-33943cd4cec6"
      },
      "outputs": [
        {
          "output_type": "stream",
          "name": "stdout",
          "text": [
            "tfds.core.DatasetInfo(\n",
            "    name='ag_news_subset',\n",
            "    version=1.0.0,\n",
            "    description='AG is a collection of more than 1 million news articles.\n",
            "News articles have been gathered from more than 2000  news sources by ComeToMyHead in more than 1 year of activity.\n",
            "ComeToMyHead is an academic news search engine which has been running since July, 2004.\n",
            "The dataset is provided by the academic comunity for research purposes in data mining (clustering, classification, etc),\n",
            "information retrieval (ranking, search, etc), xml, data compression, data streaming,\n",
            "and any other non-commercial activity.\n",
            "For more information, please refer to the link http://www.di.unipi.it/~gulli/AG_corpus_of_news_articles.html .\n",
            "\n",
            "The AG's news topic classification dataset is constructed by Xiang Zhang (xiang.zhang@nyu.edu) from the dataset above.\n",
            "It is used as a text classification benchmark in the following paper:\n",
            "Xiang Zhang, Junbo Zhao, Yann LeCun. Character-level Convolutional Networks for Text Classification. Advances in Neural Information Processing Systems 28 (NIPS 2015).\n",
            "\n",
            "The AG's news topic classification dataset is constructed by choosing 4 largest classes from the original corpus.\n",
            "Each class contains 30,000 training samples and 1,900 testing samples.\n",
            "The total number of training samples is 120,000 and testing 7,600.',\n",
            "    homepage='https://arxiv.org/abs/1509.01626',\n",
            "    features=FeaturesDict({\n",
            "        'description': Text(shape=(), dtype=tf.string),\n",
            "        'label': ClassLabel(shape=(), dtype=tf.int64, num_classes=4),\n",
            "        'title': Text(shape=(), dtype=tf.string),\n",
            "    }),\n",
            "    total_num_examples=127600,\n",
            "    splits={\n",
            "        'test': 7600,\n",
            "        'train': 120000,\n",
            "    },\n",
            "    supervised_keys=('description', 'label'),\n",
            "    citation=\"\"\"@misc{zhang2015characterlevel,\n",
            "        title={Character-level Convolutional Networks for Text Classification},\n",
            "        author={Xiang Zhang and Junbo Zhao and Yann LeCun},\n",
            "        year={2015},\n",
            "        eprint={1509.01626},\n",
            "        archivePrefix={arXiv},\n",
            "        primaryClass={cs.LG}\n",
            "    }\"\"\",\n",
            "    redistribution_info=,\n",
            ")\n",
            "\n"
          ]
        }
      ],
      "source": [
        "print(info)"
      ]
    },
    {
      "cell_type": "code",
      "execution_count": 12,
      "metadata": {
        "colab": {
          "base_uri": "https://localhost:8080/",
          "height": 243
        },
        "id": "md6UvBti_e_d",
        "outputId": "c7c1e43e-47dc-401a-ac99-1cac764dea5e"
      },
      "outputs": [
        {
          "output_type": "execute_result",
          "data": {
            "text/html": [
              "\n",
              "  <div id=\"df-2bb07b53-083e-49de-802c-a9505cd4214e\">\n",
              "    <div class=\"colab-df-container\">\n",
              "      <style type=\"text/css\">\n",
              "</style>\n",
              "<table id=\"T_3dd4f_\">\n",
              "  <thead>\n",
              "    <tr>\n",
              "      <th class=\"blank level0\" >&nbsp;</th>\n",
              "      <th class=\"col_heading level0 col0\" >description</th>\n",
              "      <th class=\"col_heading level0 col1\" >label</th>\n",
              "    </tr>\n",
              "  </thead>\n",
              "  <tbody>\n",
              "    <tr>\n",
              "      <th id=\"T_3dd4f_level0_row0\" class=\"row_heading level0 row0\" >0</th>\n",
              "      <td id=\"T_3dd4f_row0_col0\" class=\"data row0 col0\" >AMD #39;s new dual-core Opteron chip is designed mainly for corporate computing applications, including databases, Web services, and financial transactions.</td>\n",
              "      <td id=\"T_3dd4f_row0_col1\" class=\"data row0 col1\" >3 (Sci/Tech)</td>\n",
              "    </tr>\n",
              "    <tr>\n",
              "      <th id=\"T_3dd4f_level0_row1\" class=\"row_heading level0 row1\" >1</th>\n",
              "      <td id=\"T_3dd4f_row1_col0\" class=\"data row1 col0\" >Reuters - Major League Baseball\\Monday announced a decision on the appeal filed by Chicago Cubs\\pitcher Kerry Wood regarding a suspension stemming from an\\incident earlier this season.</td>\n",
              "      <td id=\"T_3dd4f_row1_col1\" class=\"data row1 col1\" >1 (Sports)</td>\n",
              "    </tr>\n",
              "    <tr>\n",
              "      <th id=\"T_3dd4f_level0_row2\" class=\"row_heading level0 row2\" >2</th>\n",
              "      <td id=\"T_3dd4f_row2_col0\" class=\"data row2 col0\" >President Bush #39;s quot;revenue-neutral quot; tax reform needs losers to balance its winners, and people claiming the federal deduction for state and local taxes may be in administration planners #39; sights, news reports say.</td>\n",
              "      <td id=\"T_3dd4f_row2_col1\" class=\"data row2 col1\" >2 (Business)</td>\n",
              "    </tr>\n",
              "    <tr>\n",
              "      <th id=\"T_3dd4f_level0_row3\" class=\"row_heading level0 row3\" >3</th>\n",
              "      <td id=\"T_3dd4f_row3_col0\" class=\"data row3 col0\" >Britain will run out of leading scientists unless science education is improved, says Professor Colin Pillinger.</td>\n",
              "      <td id=\"T_3dd4f_row3_col1\" class=\"data row3 col1\" >3 (Sci/Tech)</td>\n",
              "    </tr>\n",
              "    <tr>\n",
              "      <th id=\"T_3dd4f_level0_row4\" class=\"row_heading level0 row4\" >4</th>\n",
              "      <td id=\"T_3dd4f_row4_col0\" class=\"data row4 col0\" >London, England (Sports Network) - England midfielder Steven Gerrard injured his groin late in Thursday #39;s training session, but is hopeful he will be ready for Saturday #39;s World Cup qualifier against Austria.</td>\n",
              "      <td id=\"T_3dd4f_row4_col1\" class=\"data row4 col1\" >1 (Sports)</td>\n",
              "    </tr>\n",
              "    <tr>\n",
              "      <th id=\"T_3dd4f_level0_row5\" class=\"row_heading level0 row5\" >5</th>\n",
              "      <td id=\"T_3dd4f_row5_col0\" class=\"data row5 col0\" >TOKYO - Sony Corp. is banking on the \\$3 billion deal to acquire Hollywood studio Metro-Goldwyn-Mayer Inc...</td>\n",
              "      <td id=\"T_3dd4f_row5_col1\" class=\"data row5 col1\" >0 (World)</td>\n",
              "    </tr>\n",
              "    <tr>\n",
              "      <th id=\"T_3dd4f_level0_row6\" class=\"row_heading level0 row6\" >6</th>\n",
              "      <td id=\"T_3dd4f_row6_col0\" class=\"data row6 col0\" >Giant pandas may well prefer bamboo to laptops, but wireless technology is helping researchers in China in their efforts to protect the engandered animals living in the remote Wolong Nature Reserve.</td>\n",
              "      <td id=\"T_3dd4f_row6_col1\" class=\"data row6 col1\" >3 (Sci/Tech)</td>\n",
              "    </tr>\n",
              "    <tr>\n",
              "      <th id=\"T_3dd4f_level0_row7\" class=\"row_heading level0 row7\" >7</th>\n",
              "      <td id=\"T_3dd4f_row7_col0\" class=\"data row7 col0\" >VILNIUS, Lithuania - Lithuania #39;s main parties formed an alliance to try to keep a Russian-born tycoon and his populist promises out of the government in Sunday #39;s second round of parliamentary elections in this Baltic country.</td>\n",
              "      <td id=\"T_3dd4f_row7_col1\" class=\"data row7 col1\" >0 (World)</td>\n",
              "    </tr>\n",
              "    <tr>\n",
              "      <th id=\"T_3dd4f_level0_row8\" class=\"row_heading level0 row8\" >8</th>\n",
              "      <td id=\"T_3dd4f_row8_col0\" class=\"data row8 col0\" >Witnesses in the trial of a US soldier charged with abusing prisoners at Abu Ghraib have told the court that the CIA sometimes directed abuse and orders were received from military command to toughen interrogations.</td>\n",
              "      <td id=\"T_3dd4f_row8_col1\" class=\"data row8 col1\" >0 (World)</td>\n",
              "    </tr>\n",
              "    <tr>\n",
              "      <th id=\"T_3dd4f_level0_row9\" class=\"row_heading level0 row9\" >9</th>\n",
              "      <td id=\"T_3dd4f_row9_col0\" class=\"data row9 col0\" >Dan Olsen of Ponte Vedra Beach, Fla., shot a 7-under 65 Thursday to take a one-shot lead after two rounds of the PGA Tour qualifying tournament.</td>\n",
              "      <td id=\"T_3dd4f_row9_col1\" class=\"data row9 col1\" >1 (Sports)</td>\n",
              "    </tr>\n",
              "  </tbody>\n",
              "</table>\n",
              "\n",
              "      <button class=\"colab-df-convert\" onclick=\"convertToInteractive('df-2bb07b53-083e-49de-802c-a9505cd4214e')\"\n",
              "              title=\"Convert this dataframe to an interactive table.\"\n",
              "              style=\"display:none;\">\n",
              "        \n",
              "  <svg xmlns=\"http://www.w3.org/2000/svg\" height=\"24px\"viewBox=\"0 0 24 24\"\n",
              "       width=\"24px\">\n",
              "    <path d=\"M0 0h24v24H0V0z\" fill=\"none\"/>\n",
              "    <path d=\"M18.56 5.44l.94 2.06.94-2.06 2.06-.94-2.06-.94-.94-2.06-.94 2.06-2.06.94zm-11 1L8.5 8.5l.94-2.06 2.06-.94-2.06-.94L8.5 2.5l-.94 2.06-2.06.94zm10 10l.94 2.06.94-2.06 2.06-.94-2.06-.94-.94-2.06-.94 2.06-2.06.94z\"/><path d=\"M17.41 7.96l-1.37-1.37c-.4-.4-.92-.59-1.43-.59-.52 0-1.04.2-1.43.59L10.3 9.45l-7.72 7.72c-.78.78-.78 2.05 0 2.83L4 21.41c.39.39.9.59 1.41.59.51 0 1.02-.2 1.41-.59l7.78-7.78 2.81-2.81c.8-.78.8-2.07 0-2.86zM5.41 20L4 18.59l7.72-7.72 1.47 1.35L5.41 20z\"/>\n",
              "  </svg>\n",
              "      </button>\n",
              "      \n",
              "  <style>\n",
              "    .colab-df-container {\n",
              "      display:flex;\n",
              "      flex-wrap:wrap;\n",
              "      gap: 12px;\n",
              "    }\n",
              "\n",
              "    .colab-df-convert {\n",
              "      background-color: #E8F0FE;\n",
              "      border: none;\n",
              "      border-radius: 50%;\n",
              "      cursor: pointer;\n",
              "      display: none;\n",
              "      fill: #1967D2;\n",
              "      height: 32px;\n",
              "      padding: 0 0 0 0;\n",
              "      width: 32px;\n",
              "    }\n",
              "\n",
              "    .colab-df-convert:hover {\n",
              "      background-color: #E2EBFA;\n",
              "      box-shadow: 0px 1px 2px rgba(60, 64, 67, 0.3), 0px 1px 3px 1px rgba(60, 64, 67, 0.15);\n",
              "      fill: #174EA6;\n",
              "    }\n",
              "\n",
              "    [theme=dark] .colab-df-convert {\n",
              "      background-color: #3B4455;\n",
              "      fill: #D2E3FC;\n",
              "    }\n",
              "\n",
              "    [theme=dark] .colab-df-convert:hover {\n",
              "      background-color: #434B5C;\n",
              "      box-shadow: 0px 1px 3px 1px rgba(0, 0, 0, 0.15);\n",
              "      filter: drop-shadow(0px 1px 2px rgba(0, 0, 0, 0.3));\n",
              "      fill: #FFFFFF;\n",
              "    }\n",
              "  </style>\n",
              "\n",
              "      <script>\n",
              "        const buttonEl =\n",
              "          document.querySelector('#df-2bb07b53-083e-49de-802c-a9505cd4214e button.colab-df-convert');\n",
              "        buttonEl.style.display =\n",
              "          google.colab.kernel.accessAllowed ? 'block' : 'none';\n",
              "\n",
              "        async function convertToInteractive(key) {\n",
              "          const element = document.querySelector('#df-2bb07b53-083e-49de-802c-a9505cd4214e');\n",
              "          const dataTable =\n",
              "            await google.colab.kernel.invokeFunction('convertToInteractive',\n",
              "                                                     [key], {});\n",
              "          if (!dataTable) return;\n",
              "\n",
              "          const docLinkHtml = 'Like what you see? Visit the ' +\n",
              "            '<a target=\"_blank\" href=https://colab.research.google.com/notebooks/data_table.ipynb>data table notebook</a>'\n",
              "            + ' to learn more about interactive tables.';\n",
              "          element.innerHTML = '';\n",
              "          dataTable['output_type'] = 'display_data';\n",
              "          await google.colab.output.renderOutput(dataTable, element);\n",
              "          const docLink = document.createElement('div');\n",
              "          docLink.innerHTML = docLinkHtml;\n",
              "          element.appendChild(docLink);\n",
              "        }\n",
              "      </script>\n",
              "    </div>\n",
              "  </div>\n",
              "  "
            ],
            "text/plain": [
              "                                         description  label\n",
              "0  b'AMD #39;s new dual-core Opteron chip is desi...      3\n",
              "1  b'Reuters - Major League Baseball\\\\Monday anno...      1\n",
              "2  b'President Bush #39;s  quot;revenue-neutral q...      2\n",
              "3  b'Britain will run out of leading scientists u...      3\n",
              "4  b'London, England (Sports Network) - England m...      1\n",
              "5  b'TOKYO - Sony Corp. is banking on the \\\\$3 bi...      0\n",
              "6  b'Giant pandas may well prefer bamboo to lapto...      3\n",
              "7  b'VILNIUS, Lithuania - Lithuania #39;s main pa...      0\n",
              "8  b'Witnesses in the trial of a US soldier charg...      0\n",
              "9  b'Dan Olsen of Ponte Vedra Beach, Fla., shot a...      1"
            ]
          },
          "metadata": {},
          "execution_count": 12
        }
      ],
      "source": [
        "tfds.as_dataframe(dataset_all.take(10),info)"
      ]
    },
    {
      "cell_type": "code",
      "execution_count": 13,
      "metadata": {
        "colab": {
          "base_uri": "https://localhost:8080/"
        },
        "id": "qfwGGgob_fd8",
        "outputId": "cde1fdd6-2e83-4f8d-9afb-15dadf9cbf2e"
      },
      "outputs": [
        {
          "output_type": "stream",
          "name": "stdout",
          "text": [
            "There are 4 classes in the dataset.\n",
            "The class names are ['World', 'Sports', 'Business', 'Sci/Tech']\n"
          ]
        }
      ],
      "source": [
        "print(f'There are {info.features[\"label\"].num_classes} classes in the dataset.')\n",
        "print(f'The class names are {info.features[\"label\"].names}')"
      ]
    },
    {
      "cell_type": "code",
      "execution_count": 14,
      "metadata": {
        "colab": {
          "base_uri": "https://localhost:8080/"
        },
        "id": "iJRGESc-_w54",
        "outputId": "af3c58ff-bb12-4d52-d705-2976eef7e5ae"
      },
      "outputs": [
        {
          "output_type": "execute_result",
          "data": {
            "text/plain": [
              "{0: 'World', 1: 'Sports', 2: 'Business', 3: 'Sci/Tech'}"
            ]
          },
          "metadata": {},
          "execution_count": 14
        }
      ],
      "source": [
        "# classes dictionary\n",
        "categories =dict(enumerate(info.features[\"label\"].names))\n",
        "categories"
      ]
    },
    {
      "cell_type": "code",
      "execution_count": 15,
      "metadata": {
        "colab": {
          "base_uri": "https://localhost:8080/"
        },
        "id": "lHWpAMNEAdam",
        "outputId": "b3a4fe50-0625-4557-a768-94d7d581fded"
      },
      "outputs": [
        {
          "output_type": "execute_result",
          "data": {
            "text/plain": [
              "[('Sci/Tech', 31900), ('Sports', 31900), ('Business', 31900), ('World', 31900)]"
            ]
          },
          "metadata": {},
          "execution_count": 15
        }
      ],
      "source": [
        "train_categories = [categories[label] for label in dataset_all.map(lambda text, label: label).as_numpy_iterator()]\n",
        "Counter(train_categories).most_common()"
      ]
    },
    {
      "cell_type": "markdown",
      "metadata": {
        "id": "pyDgIuoaK2P9"
      },
      "source": [
        "### Preprocessing Data Create Input Pipeline"
      ]
    },
    {
      "cell_type": "code",
      "execution_count": 16,
      "metadata": {
        "colab": {
          "base_uri": "https://localhost:8080/"
        },
        "id": "jPu2m4MgK1xh",
        "outputId": "a06db3a7-1b01-4ee7-ac4e-8fc9e02e435e"
      },
      "outputs": [
        {
          "output_type": "stream",
          "name": "stdout",
          "text": [
            "2022-02-21 01:07:09.581989: E tensorflow/stream_executor/cuda/cuda_driver.cc:271] failed call to cuInit: CUDA_ERROR_NO_DEVICE: no CUDA-capable device is detected\n",
            "I0221 01:07:09.582277 140498551170944 download_and_prepare.py:200] Running download_and_prepare for dataset(s):\n",
            "ag_news_subset\n",
            "I0221 01:07:09.583372 140498551170944 dataset_info.py:361] Load dataset info from /root/tensorflow_datasets/ag_news_subset/1.0.0\n",
            "I0221 01:07:09.584879 140498551170944 download_and_prepare.py:138] download_and_prepare for dataset ag_news_subset/1.0.0...\n",
            "I0221 01:07:09.585147 140498551170944 dataset_builder.py:299] Reusing dataset ag_news_subset (/root/tensorflow_datasets/ag_news_subset/1.0.0)\n",
            "\u001b[1mname: \"ag_news_subset\"\n",
            "description: \"AG is a collection of more than 1 million news articles.\\nNews articles have been gathered from more than 2000  news sources by ComeToMyHead in more than 1 year of activity.\\nComeToMyHead is an academic news search engine which has been running since July, 2004.\\nThe dataset is provided by the academic comunity for research purposes in data mining (clustering, classification, etc),\\ninformation retrieval (ranking, search, etc), xml, data compression, data streaming,\\nand any other non-commercial activity.\\nFor more information, please refer to the link http://www.di.unipi.it/~gulli/AG_corpus_of_news_articles.html .\\n\\nThe AG\\'s news topic classification dataset is constructed by Xiang Zhang (xiang.zhang@nyu.edu) from the dataset above.\\nIt is used as a text classification benchmark in the following paper:\\nXiang Zhang, Junbo Zhao, Yann LeCun. Character-level Convolutional Networks for Text Classification. Advances in Neural Information Processing Systems 28 (NIPS 2015).\\n\\nThe AG\\'s news topic classification dataset is constructed by choosing 4 largest classes from the original corpus.\\nEach class contains 30,000 training samples and 1,900 testing samples.\\nThe total number of training samples is 120,000 and testing 7,600.\"\n",
            "citation: \"@misc{zhang2015characterlevel,\\n    title={Character-level Convolutional Networks for Text Classification},\\n    author={Xiang Zhang and Junbo Zhao and Yann LeCun},\\n    year={2015},\\n    eprint={1509.01626},\\n    archivePrefix={arXiv},\\n    primaryClass={cs.LG}\\n}\"\n",
            "location {\n",
            "  urls: \"https://arxiv.org/abs/1509.01626\"\n",
            "}\n",
            "splits {\n",
            "  name: \"test\"\n",
            "  shard_lengths: 7600\n",
            "  num_bytes: 2226751\n",
            "}\n",
            "splits {\n",
            "  name: \"train\"\n",
            "  shard_lengths: 120000\n",
            "  num_bytes: 35301386\n",
            "}\n",
            "supervised_keys {\n",
            "  input: \"description\"\n",
            "  output: \"label\"\n",
            "}\n",
            "version: \"1.0.0\"\n",
            "download_size: 11784327\n",
            "\u001b[0m\n"
          ]
        }
      ],
      "source": [
        "# register  ag_news_subset so that tfds.load doesn't generate a checksum (mismatch) error\n",
        "!python -m tensorflow_datasets.scripts.download_and_prepare --register_checksums --datasets=ag_news_subset\n",
        "\n",
        "# Example Approaches to Split Data Set\n",
        "# dataset, info = tfds.load('ag_news_subset', with_info=True,  split=['train[:]','test[:1000]', 'test[1000:]'],\n",
        "dataset, info = tfds.load('ag_news_subset', with_info=True,  split=['train[:95%]','train[95%:]', 'test[:]'],\n",
        "# dataset, info = tfds.load('ag_news_subset', with_info=True,  split=['train[:114000]','train[114000:]', 'test[:]'],\n",
        "                          as_supervised=True)\n",
        "train_dataset, validation_dataset, test_dataset = dataset\n",
        "# train_dataset, test_dataset = dataset['train'],dataset['test']"
      ]
    },
    {
      "cell_type": "code",
      "execution_count": 17,
      "metadata": {
        "colab": {
          "base_uri": "https://localhost:8080/"
        },
        "id": "-UiIVeT9LJ6A",
        "outputId": "4f651f99-2bbc-4845-efbb-0bebaadbc674"
      },
      "outputs": [
        {
          "output_type": "execute_result",
          "data": {
            "text/plain": [
              "(114000, 6000, 7600)"
            ]
          },
          "metadata": {},
          "execution_count": 17
        }
      ],
      "source": [
        "len(train_dataset),len(validation_dataset),len(test_dataset) \n",
        "# len(train_dataset),len(test_dataset) "
      ]
    },
    {
      "cell_type": "markdown",
      "metadata": {
        "id": "FTOZE0teLMRU"
      },
      "source": [
        "### Review Distribution of Categorical Labels for the 114000 training data (news articles)"
      ]
    },
    {
      "cell_type": "code",
      "execution_count": 18,
      "metadata": {
        "colab": {
          "base_uri": "https://localhost:8080/"
        },
        "id": "PgKXaDC5LJ3d",
        "outputId": "37954fb4-7516-46b4-b9b7-dcef26178d4a"
      },
      "outputs": [
        {
          "output_type": "execute_result",
          "data": {
            "text/plain": [
              "[('Business', 28531), ('Sports', 28495), ('World', 28491), ('Sci/Tech', 28483)]"
            ]
          },
          "metadata": {},
          "execution_count": 18
        }
      ],
      "source": [
        "from collections import Counter\n",
        "train_categories = [categories[label] for label in train_dataset.map(lambda text, label: label).as_numpy_iterator()]\n",
        "Counter(train_categories).most_common()"
      ]
    },
    {
      "cell_type": "code",
      "execution_count": 19,
      "metadata": {
        "colab": {
          "base_uri": "https://localhost:8080/"
        },
        "id": "5E5ChOYILJ0Z",
        "outputId": "4dd3fd6a-c2f2-41d9-a1b1-b776077a45d3"
      },
      "outputs": [
        {
          "output_type": "stream",
          "name": "stdout",
          "text": [
            "text:  b'AMD #39;s new dual-core Opteron chip is designed mainly for corporate computing applications, including databases, Web services, and financial transactions.'\n",
            "class:  Sci/Tech\n"
          ]
        }
      ],
      "source": [
        "for example, label in train_dataset.take(1):\n",
        "  print('text: ', example.numpy())\n",
        "  print('class: ', categories[label.numpy()])"
      ]
    },
    {
      "cell_type": "code",
      "execution_count": 20,
      "metadata": {
        "colab": {
          "base_uri": "https://localhost:8080/"
        },
        "id": "CR3jkjoRLJxj",
        "outputId": "9d77477f-b04b-4ae6-c044-f7b901008872"
      },
      "outputs": [
        {
          "output_type": "stream",
          "name": "stdout",
          "text": [
            "text:  b'AMD #39;s new dual-core Opteron chip is designed mainly for corporate computing applications, including databases, Web services, and financial transactions.'\n",
            "class:  Sci/Tech\n"
          ]
        }
      ],
      "source": [
        "for example, label in train_dataset.take(1):\n",
        "  print('text: ', example.numpy())\n",
        "  print('class: ', categories[label.numpy()])"
      ]
    },
    {
      "cell_type": "markdown",
      "metadata": {
        "id": "zuwRjG8kMoEV"
      },
      "source": [
        "#### Preprocessing Shuffle Data for Training and Create Batches of `(text, label)` pairs:"
      ]
    },
    {
      "cell_type": "code",
      "execution_count": 21,
      "metadata": {
        "id": "vP_DlrP3LJvM"
      },
      "outputs": [],
      "source": [
        "BUFFER_SIZE = 10000\n",
        "BATCH_SIZE = 64"
      ]
    },
    {
      "cell_type": "code",
      "execution_count": 22,
      "metadata": {
        "id": "3tHaZJY6Mqj1"
      },
      "outputs": [],
      "source": [
        "train_dataset = train_dataset.shuffle(BUFFER_SIZE).batch(BATCH_SIZE).prefetch(tf.data.experimental.AUTOTUNE)\n",
        "validation_dataset = validation_dataset.shuffle(BUFFER_SIZE).batch(BATCH_SIZE).prefetch(tf.data.experimental.AUTOTUNE)\n",
        "test_dataset = test_dataset.batch(BATCH_SIZE).prefetch(tf.data.experimental.AUTOTUNE)"
      ]
    },
    {
      "cell_type": "code",
      "execution_count": 23,
      "metadata": {
        "colab": {
          "base_uri": "https://localhost:8080/"
        },
        "id": "SWNKEsxWMqhR",
        "outputId": "ae6eee4e-5311-4c2a-cae4-4288f498bff6"
      },
      "outputs": [
        {
          "output_type": "stream",
          "name": "stdout",
          "text": [
            "texts:  [b'French environmentalists condemn hunters who shot one of the last female brown bears in the Pyrenees.'\n",
            " b\"AP - Jared Zabransky passed for 244 yards and three touchdowns to lead No. 10 Boise State past Nevada 58-21 Saturday night and keep the unbeaten Broncos' hopes alive for a spot in the Bowl Championship Series with their 22nd straight win.\"\n",
            " b\"XM Satellite's recruitment of well-known personalities, including Bob Edwards, has been the most aggressive effort to date to win listeners.\"]\n",
            "\n",
            "labels:  [3 1 3]\n",
            "texts:  [b'AP - The race was close, tough, sometimes bitter, but \"now\\'s the time for healing,\" President Bush said in sparing the lives of two White House turkeys.'\n",
            " b'Reuters - Powerful regional Afghan commander Ismail\\\\Khan was effectively dismissed as governor of Herat city\\\\Saturday and declined a promotion to the cabinet of President\\\\Hamid Karzai.'\n",
            " b'Microsoft Corp. has found an unlikely new partner to help promote Windows XP: Google Inc.']\n",
            "\n",
            "labels:  [0 0 3]\n"
          ]
        }
      ],
      "source": [
        "for example, label in train_dataset.take(2): #take() Creates a Dataset with at most count elements from this dataset, so it returns the data elements (since it's been batched/bundled 64 instances per element)\n",
        "  print('texts: ', example.numpy()[:3])\n",
        "  print()\n",
        "  print('labels: ', label.numpy()[:3])"
      ]
    },
    {
      "cell_type": "markdown",
      "metadata": {
        "id": "2OrhPp1ZGKb-"
      },
      "source": [
        "# **Experiment D - Testify Variants of CNN**"
      ]
    },
    {
      "cell_type": "markdown",
      "metadata": {
        "id": "pPdsOpi6M8Az"
      },
      "source": [
        "## Create the Text Encoder\n",
        "\n",
        "1. tweek the vocabulary size of encoder\n",
        "2. Vocabulary customization\n",
        "3. output sequence length"
      ]
    },
    {
      "cell_type": "code",
      "execution_count": 24,
      "metadata": {
        "id": "uC25Lu1Yvuqy"
      },
      "outputs": [],
      "source": [
        "#from the experiment A, we have identified the encoder with 3000 vocab size, unedited vocabulary, and arbitriy 128 output sequence yield the best result\n",
        "\n",
        "# encoder 1 - 3000 vocabulary size, no edit of vocabulary, default output sequence length\n",
        "encoder = tf.keras.layers.experimental.preprocessing.TextVectorization(\n",
        "    max_tokens=3000, output_sequence_length=128)\n",
        "encoder.adapt(train_dataset.map(lambda text, label: text))"
      ]
    },
    {
      "cell_type": "code",
      "execution_count": 25,
      "metadata": {
        "colab": {
          "base_uri": "https://localhost:8080/"
        },
        "id": "s5tP4VcSkTvY",
        "outputId": "63a0eec1-863d-4ac1-8019-d34128cca160"
      },
      "outputs": [
        {
          "output_type": "execute_result",
          "data": {
            "text/plain": [
              "3000"
            ]
          },
          "metadata": {},
          "execution_count": 25
        }
      ],
      "source": [
        "vocab = np.array(encoder.get_vocabulary())\n",
        "len(vocab)"
      ]
    },
    {
      "cell_type": "code",
      "execution_count": 26,
      "metadata": {
        "colab": {
          "base_uri": "https://localhost:8080/"
        },
        "id": "tBoyjjWg0Ac9",
        "outputId": "76ac051a-c652-4492-e8c5-48e2d825ab6c"
      },
      "outputs": [
        {
          "output_type": "execute_result",
          "data": {
            "text/plain": [
              "array(['', '[UNK]', 'the', 'a', 'to', 'of', 'in', 'and', 'on', 'for',\n",
              "       'that', '39s', 'with', 'its', 'as', 'at', 'is', 'said', 'by', 'it',\n",
              "       'has', 'new', 'an', 'from', 'his', 'us', 'will', 'was', 'reuters',\n",
              "       'after', 'have', 'be', 'their', 'are', 'over', 'ap', 'he', 'but',\n",
              "       'two', 'first', 'this', 'more', 'monday', 'wednesday', 'tuesday',\n",
              "       'thursday', 'company', 'up', 'friday', 'inc', 'one', 'world',\n",
              "       'yesterday', 'they', 'last', 'york', 'against', 'than', 'about',\n",
              "       'who', 'not', 'were', 'into', 'year', 'been', 'out', 'president',\n",
              "       'had', 'when', 'million', 'oil', 'corp', 'united', 'sunday',\n",
              "       'would', 'which', 'week', 'years', 'today', 'three', 'people',\n",
              "       'government', 'could', 'quot', 'group', 'no', 'time', 'game',\n",
              "       'percent', 'saturday', 'software', 'night', 'or', 'iraq', 'prices',\n",
              "       'next', 'security', 'minister', 'announced', 'some'], dtype='<U21')"
            ]
          },
          "metadata": {},
          "execution_count": 26
        }
      ],
      "source": [
        "vocab = np.array(encoder.get_vocabulary())\n",
        "vocab[:100]"
      ]
    },
    {
      "cell_type": "markdown",
      "metadata": {
        "id": "-rPfbSyoruu3"
      },
      "source": [
        "Here are the 20 least frequent words."
      ]
    },
    {
      "cell_type": "code",
      "execution_count": 27,
      "metadata": {
        "colab": {
          "base_uri": "https://localhost:8080/"
        },
        "id": "O6tWoBiwrzyX",
        "outputId": "4a516b3e-a42c-4c7f-9c8c-032b7543aa76"
      },
      "outputs": [
        {
          "output_type": "execute_result",
          "data": {
            "text/plain": [
              "array(['barely', 'bar', 'xbox', 'teammate', 'silver', 'secondquarter',\n",
              "       'referendum', 'quality', 'population', 'plenty', 'palm',\n",
              "       'operators', 'memphis', 'materials', 'language', 'landing',\n",
              "       'homeland', 'friendly', 'firsthalf', 'fed'], dtype='<U21')"
            ]
          },
          "metadata": {},
          "execution_count": 27
        }
      ],
      "source": [
        "vocab[-20:]"
      ]
    },
    {
      "cell_type": "markdown",
      "metadata": {
        "id": "mjId5pua3jHQ"
      },
      "source": [
        "Once the vocabulary is set, the layer can encode text into indices. The tensors of indices are 0-padded to the longest sequence in the batch (unless you set a fixed `output_sequence_length`):<br>\n",
        "Default Batch Size = 32"
      ]
    },
    {
      "cell_type": "code",
      "execution_count": 28,
      "metadata": {
        "colab": {
          "base_uri": "https://localhost:8080/"
        },
        "id": "RGc7C9WiwRWs",
        "outputId": "0ebb4ce3-9345-4b22-ed43-c742992bd988"
      },
      "outputs": [
        {
          "output_type": "execute_result",
          "data": {
            "text/plain": [
              "array([[  35,    2,  505,   27,  409, 1539,    1, 2670,   37,    1,    2,\n",
              "          86,    9,    1,   66,  184,   17,    6,    1,    2, 2210,    5,\n",
              "          38,  679,  467,    1,    0,    0,    0,    0,    0,    0,    0,\n",
              "           0,    0,    0,    0,    0,    0,    0,    0,    0,    0,    0,\n",
              "           0,    0,    0,    0,    0,    0,    0,    0,    0,    0,    0,\n",
              "           0,    0,    0,    0,    0,    0,    0,    0,    0,    0,    0,\n",
              "           0,    0,    0,    0,    0,    0,    0,    0,    0,    0,    0,\n",
              "           0,    0,    0,    0,    0,    0,    0,    0,    0,    0,    0,\n",
              "           0,    0,    0,    0,    0,    0,    0,    0,    0,    0,    0,\n",
              "           0,    0,    0,    0,    0,    0,    0,    0,    0,    0,    0,\n",
              "           0,    0,    0,    0,    0,    0,    0,    0,    0,    0,    0,\n",
              "           0,    0,    0,    0,    0,    0,    0],\n",
              "       [  28,  791, 1725, 1096, 2888,    1,   27,    1, 2351,   14, 2441,\n",
              "           5,    1,    1,    7, 1870,    3,    1,    4,    2, 1980,    5,\n",
              "           1, 1756,    0,    0,    0,    0,    0,    0,    0,    0,    0,\n",
              "           0,    0,    0,    0,    0,    0,    0,    0,    0,    0,    0,\n",
              "           0,    0,    0,    0,    0,    0,    0,    0,    0,    0,    0,\n",
              "           0,    0,    0,    0,    0,    0,    0,    0,    0,    0,    0,\n",
              "           0,    0,    0,    0,    0,    0,    0,    0,    0,    0,    0,\n",
              "           0,    0,    0,    0,    0,    0,    0,    0,    0,    0,    0,\n",
              "           0,    0,    0,    0,    0,    0,    0,    0,    0,    0,    0,\n",
              "           0,    0,    0,    0,    0,    0,    0,    0,    0,    0,    0,\n",
              "           0,    0,    0,    0,    0,    0,    0,    0,    0,    0,    0,\n",
              "           0,    0,    0,    0,    0,    0,    0],\n",
              "       [ 100,   71,   20,  306,   22, 2379,   21, 2155,    4,  206,    1,\n",
              "         311, 1092,  286,   49,    0,    0,    0,    0,    0,    0,    0,\n",
              "           0,    0,    0,    0,    0,    0,    0,    0,    0,    0,    0,\n",
              "           0,    0,    0,    0,    0,    0,    0,    0,    0,    0,    0,\n",
              "           0,    0,    0,    0,    0,    0,    0,    0,    0,    0,    0,\n",
              "           0,    0,    0,    0,    0,    0,    0,    0,    0,    0,    0,\n",
              "           0,    0,    0,    0,    0,    0,    0,    0,    0,    0,    0,\n",
              "           0,    0,    0,    0,    0,    0,    0,    0,    0,    0,    0,\n",
              "           0,    0,    0,    0,    0,    0,    0,    0,    0,    0,    0,\n",
              "           0,    0,    0,    0,    0,    0,    0,    0,    0,    0,    0,\n",
              "           0,    0,    0,    0,    0,    0,    0,    0,    0,    0,    0,\n",
              "           0,    0,    0,    0,    0,    0,    0]])"
            ]
          },
          "metadata": {},
          "execution_count": 28
        }
      ],
      "source": [
        "encoded_example = encoder(example)[:3].numpy()\n",
        "encoded_example"
      ]
    },
    {
      "cell_type": "markdown",
      "metadata": {
        "id": "F5cjz0bS39IN"
      },
      "source": [
        "With the default settings, the process is not completely reversible. There are three main reasons for that:\n",
        "\n",
        "1. The default value for `preprocessing.TextVectorization`'s `standardize` argument is `\"lower_and_strip_punctuation\"`.\n",
        "2. The limited vocabulary size and lack of character-based fallback results in some unknown tokens."
      ]
    },
    {
      "cell_type": "code",
      "execution_count": 29,
      "metadata": {
        "colab": {
          "base_uri": "https://localhost:8080/"
        },
        "id": "N_tD0QY5wXaK",
        "outputId": "9581a230-a836-4a5c-e74c-c66a9f2f45a1"
      },
      "outputs": [
        {
          "output_type": "stream",
          "name": "stdout",
          "text": [
            "Original:  b'AP - The race was close, tough, sometimes bitter, but \"now\\'s the time for healing,\" President Bush said in sparing the lives of two White House turkeys.'\n",
            "Round-trip:  ap the race was close tough [UNK] bitter but [UNK] the time for [UNK] president bush said in [UNK] the lives of two white house [UNK]                                                                                                      \n",
            "\n",
            "Original:  b'Reuters - Powerful regional Afghan commander Ismail\\\\Khan was effectively dismissed as governor of Herat city\\\\Saturday and declined a promotion to the cabinet of President\\\\Hamid Karzai.'\n",
            "Round-trip:  reuters powerful regional afghan commander [UNK] was [UNK] dismissed as governor of [UNK] [UNK] and declined a [UNK] to the cabinet of [UNK] karzai                                                                                                        \n",
            "\n",
            "Original:  b'Microsoft Corp. has found an unlikely new partner to help promote Windows XP: Google Inc.'\n",
            "Round-trip:  microsoft corp has found an unlikely new partner to help [UNK] windows xp google inc                                                                                                                 \n",
            "\n"
          ]
        }
      ],
      "source": [
        "for n in range(3):\n",
        "  print(\"Original: \", example[n].numpy())\n",
        "  print(\"Round-trip: \", \" \".join(vocab[encoded_example[n]]))\n",
        "  print()"
      ]
    },
    {
      "cell_type": "markdown",
      "metadata": {
        "id": "Hn8wzLR7NVm_"
      },
      "source": [
        "## Create the Model based on same encoder but variant model structure"
      ]
    },
    {
      "cell_type": "code",
      "execution_count": 30,
      "metadata": {
        "id": "IkyMGYiK3Fzx"
      },
      "outputs": [],
      "source": [
        "#one single layer LSTM"
      ]
    },
    {
      "cell_type": "code",
      "execution_count": 31,
      "metadata": {
        "id": "TzUky1kTNXML"
      },
      "outputs": [],
      "source": [
        "num_classes = 4\n",
        "model1 = tf.keras.Sequential([\n",
        "                              encoder\n",
        "                              ,tf.keras.layers.Embedding(input_dim=len(encoder.get_vocabulary())  #eahc input represents a word vector\n",
        "                              ,output_dim=64\n",
        "                                # Use masking to handle the variable sequence lengths\n",
        "                              ,mask_zero=True)\n",
        "                              ,tf.keras.layers.Conv1D(64, 8, padding='same', activation='relu') #64 represents the number of cells within the layer, which represents the size of a sequenze of tokens the model oversees a time\n",
        "                              ,tf.keras.layers.MaxPooling1D(pool_size=2, strides=1, padding=\"valid\")\n",
        "                              ,tf.keras.layers.Flatten()\n",
        "                              ,tf.keras.layers.Dense(64, activation='relu')\n",
        "                              ,tf.keras.layers.Dense(num_classes,activation='softmax')   # num_classes = 4\n",
        "])"
      ]
    },
    {
      "cell_type": "markdown",
      "metadata": {
        "id": "UqS9B4BsTY_R"
      },
      "source": [
        "## Compile Model "
      ]
    },
    {
      "cell_type": "code",
      "execution_count": 32,
      "metadata": {
        "id": "NL9tgrHETbBy"
      },
      "outputs": [],
      "source": [
        "model1.compile(optimizer=tf.keras.optimizers.Adam(1e-4)\n",
        "              ,loss=tf.keras.losses.SparseCategoricalCrossentropy() # if we set from_logits=True we don not have specify a softmax activation function in the last layer\n",
        "              ,metrics=['accuracy'])"
      ]
    },
    {
      "cell_type": "code",
      "execution_count": 33,
      "metadata": {
        "colab": {
          "base_uri": "https://localhost:8080/"
        },
        "id": "QY4frhHZTo8W",
        "outputId": "529c02f3-ff7c-4c1b-f294-27927d824c5f"
      },
      "outputs": [
        {
          "output_type": "stream",
          "name": "stdout",
          "text": [
            "Model: \"sequential\"\n",
            "_________________________________________________________________\n",
            " Layer (type)                Output Shape              Param #   \n",
            "=================================================================\n",
            " text_vectorization (TextVec  (None, 128)              0         \n",
            " torization)                                                     \n",
            "                                                                 \n",
            " embedding (Embedding)       (None, 128, 64)           192000    \n",
            "                                                                 \n",
            " conv1d (Conv1D)             (None, 128, 64)           32832     \n",
            "                                                                 \n",
            " max_pooling1d (MaxPooling1D  (None, 127, 64)          0         \n",
            " )                                                               \n",
            "                                                                 \n",
            " flatten (Flatten)           (None, 8128)              0         \n",
            "                                                                 \n",
            " dense (Dense)               (None, 64)                520256    \n",
            "                                                                 \n",
            " dense_1 (Dense)             (None, 4)                 260       \n",
            "                                                                 \n",
            "=================================================================\n",
            "Total params: 745,348\n",
            "Trainable params: 745,348\n",
            "Non-trainable params: 0\n",
            "_________________________________________________________________\n"
          ]
        }
      ],
      "source": [
        "model1.summary()"
      ]
    },
    {
      "cell_type": "markdown",
      "metadata": {
        "id": "5YvC6fyUTseJ"
      },
      "source": [
        "## Model Trainning"
      ]
    },
    {
      "cell_type": "code",
      "execution_count": 34,
      "metadata": {
        "colab": {
          "base_uri": "https://localhost:8080/"
        },
        "id": "K3pmnYn4TvuD",
        "outputId": "63485972-473c-4449-9e90-96f8c71e05aa"
      },
      "outputs": [
        {
          "output_type": "stream",
          "name": "stdout",
          "text": [
            "Epoch 1/200\n",
            "1782/1782 [==============================] - 71s 39ms/step - loss: 0.6200 - accuracy: 0.7538 - val_loss: 0.3699 - val_accuracy: 0.8735\n",
            "Epoch 2/200\n",
            "1782/1782 [==============================] - 74s 41ms/step - loss: 0.3340 - accuracy: 0.8833 - val_loss: 0.3311 - val_accuracy: 0.8850\n",
            "Epoch 3/200\n",
            "1782/1782 [==============================] - 70s 39ms/step - loss: 0.2977 - accuracy: 0.8951 - val_loss: 0.3191 - val_accuracy: 0.8877\n",
            "Epoch 4/200\n",
            "1782/1782 [==============================] - 69s 39ms/step - loss: 0.2775 - accuracy: 0.9022 - val_loss: 0.3124 - val_accuracy: 0.8903\n",
            "Epoch 5/200\n",
            "1782/1782 [==============================] - 70s 39ms/step - loss: 0.2643 - accuracy: 0.9060 - val_loss: 0.3109 - val_accuracy: 0.8902\n",
            "Epoch 6/200\n",
            "1782/1782 [==============================] - 70s 39ms/step - loss: 0.2535 - accuracy: 0.9090 - val_loss: 0.3088 - val_accuracy: 0.8902\n"
          ]
        }
      ],
      "source": [
        "history1 = model1.fit(train_dataset\n",
        "                    ,epochs = 200\n",
        "                    ,validation_data=validation_dataset\n",
        "                    ,callbacks=[tf.keras.callbacks.EarlyStopping(monitor='val_accuracy', patience=2)]\n",
        "                    )"
      ]
    },
    {
      "cell_type": "code",
      "execution_count": 35,
      "metadata": {
        "colab": {
          "base_uri": "https://localhost:8080/"
        },
        "id": "EHhhzE5PTzRN",
        "outputId": "c934486e-ce7b-4348-b34d-a9137d2db78b"
      },
      "outputs": [
        {
          "output_type": "stream",
          "name": "stdout",
          "text": [
            "119/119 [==============================] - 2s 14ms/step - loss: 0.3147 - accuracy: 0.8883\n"
          ]
        }
      ],
      "source": [
        "test_loss, test_acc = model1.evaluate(test_dataset)"
      ]
    },
    {
      "cell_type": "code",
      "execution_count": 36,
      "metadata": {
        "colab": {
          "base_uri": "https://localhost:8080/"
        },
        "id": "g2h3YwEnT2Zc",
        "outputId": "7fdae577-78b5-4ada-97da-c93326a7bbb7"
      },
      "outputs": [
        {
          "output_type": "execute_result",
          "data": {
            "text/plain": [
              "dict_keys(['loss', 'accuracy', 'val_loss', 'val_accuracy'])"
            ]
          },
          "metadata": {},
          "execution_count": 36
        }
      ],
      "source": [
        "history_dict = history1.history\n",
        "history_dict.keys()"
      ]
    },
    {
      "cell_type": "code",
      "execution_count": 37,
      "metadata": {
        "colab": {
          "base_uri": "https://localhost:8080/",
          "height": 237
        },
        "id": "yvS1RedET5Jy",
        "outputId": "adc08f81-6cb3-41c3-99bf-b969cc2f606e"
      },
      "outputs": [
        {
          "output_type": "execute_result",
          "data": {
            "text/html": [
              "\n",
              "  <div id=\"df-9cfedb32-a014-4115-9cc9-f8558354bc0f\">\n",
              "    <div class=\"colab-df-container\">\n",
              "      <div>\n",
              "<style scoped>\n",
              "    .dataframe tbody tr th:only-of-type {\n",
              "        vertical-align: middle;\n",
              "    }\n",
              "\n",
              "    .dataframe tbody tr th {\n",
              "        vertical-align: top;\n",
              "    }\n",
              "\n",
              "    .dataframe thead th {\n",
              "        text-align: right;\n",
              "    }\n",
              "</style>\n",
              "<table border=\"1\" class=\"dataframe\">\n",
              "  <thead>\n",
              "    <tr style=\"text-align: right;\">\n",
              "      <th></th>\n",
              "      <th>loss</th>\n",
              "      <th>accuracy</th>\n",
              "      <th>val_loss</th>\n",
              "      <th>val_accuracy</th>\n",
              "    </tr>\n",
              "  </thead>\n",
              "  <tbody>\n",
              "    <tr>\n",
              "      <th>0</th>\n",
              "      <td>0.620</td>\n",
              "      <td>0.754</td>\n",
              "      <td>0.370</td>\n",
              "      <td>0.873</td>\n",
              "    </tr>\n",
              "    <tr>\n",
              "      <th>1</th>\n",
              "      <td>0.334</td>\n",
              "      <td>0.883</td>\n",
              "      <td>0.331</td>\n",
              "      <td>0.885</td>\n",
              "    </tr>\n",
              "    <tr>\n",
              "      <th>2</th>\n",
              "      <td>0.298</td>\n",
              "      <td>0.895</td>\n",
              "      <td>0.319</td>\n",
              "      <td>0.888</td>\n",
              "    </tr>\n",
              "    <tr>\n",
              "      <th>3</th>\n",
              "      <td>0.278</td>\n",
              "      <td>0.902</td>\n",
              "      <td>0.312</td>\n",
              "      <td>0.890</td>\n",
              "    </tr>\n",
              "    <tr>\n",
              "      <th>4</th>\n",
              "      <td>0.264</td>\n",
              "      <td>0.906</td>\n",
              "      <td>0.311</td>\n",
              "      <td>0.890</td>\n",
              "    </tr>\n",
              "    <tr>\n",
              "      <th>5</th>\n",
              "      <td>0.254</td>\n",
              "      <td>0.909</td>\n",
              "      <td>0.309</td>\n",
              "      <td>0.890</td>\n",
              "    </tr>\n",
              "  </tbody>\n",
              "</table>\n",
              "</div>\n",
              "      <button class=\"colab-df-convert\" onclick=\"convertToInteractive('df-9cfedb32-a014-4115-9cc9-f8558354bc0f')\"\n",
              "              title=\"Convert this dataframe to an interactive table.\"\n",
              "              style=\"display:none;\">\n",
              "        \n",
              "  <svg xmlns=\"http://www.w3.org/2000/svg\" height=\"24px\"viewBox=\"0 0 24 24\"\n",
              "       width=\"24px\">\n",
              "    <path d=\"M0 0h24v24H0V0z\" fill=\"none\"/>\n",
              "    <path d=\"M18.56 5.44l.94 2.06.94-2.06 2.06-.94-2.06-.94-.94-2.06-.94 2.06-2.06.94zm-11 1L8.5 8.5l.94-2.06 2.06-.94-2.06-.94L8.5 2.5l-.94 2.06-2.06.94zm10 10l.94 2.06.94-2.06 2.06-.94-2.06-.94-.94-2.06-.94 2.06-2.06.94z\"/><path d=\"M17.41 7.96l-1.37-1.37c-.4-.4-.92-.59-1.43-.59-.52 0-1.04.2-1.43.59L10.3 9.45l-7.72 7.72c-.78.78-.78 2.05 0 2.83L4 21.41c.39.39.9.59 1.41.59.51 0 1.02-.2 1.41-.59l7.78-7.78 2.81-2.81c.8-.78.8-2.07 0-2.86zM5.41 20L4 18.59l7.72-7.72 1.47 1.35L5.41 20z\"/>\n",
              "  </svg>\n",
              "      </button>\n",
              "      \n",
              "  <style>\n",
              "    .colab-df-container {\n",
              "      display:flex;\n",
              "      flex-wrap:wrap;\n",
              "      gap: 12px;\n",
              "    }\n",
              "\n",
              "    .colab-df-convert {\n",
              "      background-color: #E8F0FE;\n",
              "      border: none;\n",
              "      border-radius: 50%;\n",
              "      cursor: pointer;\n",
              "      display: none;\n",
              "      fill: #1967D2;\n",
              "      height: 32px;\n",
              "      padding: 0 0 0 0;\n",
              "      width: 32px;\n",
              "    }\n",
              "\n",
              "    .colab-df-convert:hover {\n",
              "      background-color: #E2EBFA;\n",
              "      box-shadow: 0px 1px 2px rgba(60, 64, 67, 0.3), 0px 1px 3px 1px rgba(60, 64, 67, 0.15);\n",
              "      fill: #174EA6;\n",
              "    }\n",
              "\n",
              "    [theme=dark] .colab-df-convert {\n",
              "      background-color: #3B4455;\n",
              "      fill: #D2E3FC;\n",
              "    }\n",
              "\n",
              "    [theme=dark] .colab-df-convert:hover {\n",
              "      background-color: #434B5C;\n",
              "      box-shadow: 0px 1px 3px 1px rgba(0, 0, 0, 0.15);\n",
              "      filter: drop-shadow(0px 1px 2px rgba(0, 0, 0, 0.3));\n",
              "      fill: #FFFFFF;\n",
              "    }\n",
              "  </style>\n",
              "\n",
              "      <script>\n",
              "        const buttonEl =\n",
              "          document.querySelector('#df-9cfedb32-a014-4115-9cc9-f8558354bc0f button.colab-df-convert');\n",
              "        buttonEl.style.display =\n",
              "          google.colab.kernel.accessAllowed ? 'block' : 'none';\n",
              "\n",
              "        async function convertToInteractive(key) {\n",
              "          const element = document.querySelector('#df-9cfedb32-a014-4115-9cc9-f8558354bc0f');\n",
              "          const dataTable =\n",
              "            await google.colab.kernel.invokeFunction('convertToInteractive',\n",
              "                                                     [key], {});\n",
              "          if (!dataTable) return;\n",
              "\n",
              "          const docLinkHtml = 'Like what you see? Visit the ' +\n",
              "            '<a target=\"_blank\" href=https://colab.research.google.com/notebooks/data_table.ipynb>data table notebook</a>'\n",
              "            + ' to learn more about interactive tables.';\n",
              "          element.innerHTML = '';\n",
              "          dataTable['output_type'] = 'display_data';\n",
              "          await google.colab.output.renderOutput(dataTable, element);\n",
              "          const docLink = document.createElement('div');\n",
              "          docLink.innerHTML = docLinkHtml;\n",
              "          element.appendChild(docLink);\n",
              "        }\n",
              "      </script>\n",
              "    </div>\n",
              "  </div>\n",
              "  "
            ],
            "text/plain": [
              "    loss  accuracy  val_loss  val_accuracy\n",
              "0  0.620     0.754     0.370         0.873\n",
              "1  0.334     0.883     0.331         0.885\n",
              "2  0.298     0.895     0.319         0.888\n",
              "3  0.278     0.902     0.312         0.890\n",
              "4  0.264     0.906     0.311         0.890\n",
              "5  0.254     0.909     0.309         0.890"
            ]
          },
          "metadata": {},
          "execution_count": 37
        }
      ],
      "source": [
        "history_df=pd.DataFrame(history_dict)\n",
        "history_df.tail(10).round(3)"
      ]
    },
    {
      "cell_type": "code",
      "execution_count": 38,
      "metadata": {
        "id": "D9erKSIbT5H9"
      },
      "outputs": [],
      "source": [
        "losses = history1.history['loss']\n",
        "accs = history1.history['accuracy']\n",
        "val_losses = history1.history['val_loss']\n",
        "val_accs = history1.history['val_accuracy']\n",
        "epochs = len(losses)"
      ]
    },
    {
      "cell_type": "code",
      "execution_count": 39,
      "metadata": {
        "colab": {
          "base_uri": "https://localhost:8080/",
          "height": 264
        },
        "id": "_Pf2tGa1T5FI",
        "outputId": "f2f5bdf0-c003-4a90-a760-f8b2e0212310"
      },
      "outputs": [
        {
          "output_type": "display_data",
          "data": {
            "image/png": "[encoded data removed]",
            "text/plain": [
              "<Figure size 1152x288 with 2 Axes>"
            ]
          },
          "metadata": {
            "needs_background": "light"
          }
        }
      ],
      "source": [
        "plt.figure(figsize=(16, 4))\n",
        "for i, metrics in enumerate(zip([losses, accs], [val_losses, val_accs], ['Loss', 'Accuracy'])):\n",
        "    plt.subplot(1, 2, i + 1)\n",
        "    plt.plot(range(epochs), metrics[0], label='Training {}'.format(metrics[2]))\n",
        "    plt.plot(range(epochs), metrics[1], label='Validation {}'.format(metrics[2]))\n",
        "    plt.legend()\n",
        "plt.show()"
      ]
    },
    {
      "cell_type": "code",
      "execution_count": 40,
      "metadata": {
        "id": "RRGv1gWs1zz6"
      },
      "outputs": [],
      "source": [
        "# track the test performance\n",
        "test_accuracy = []\n",
        "test_accuracy.append(test_acc)"
      ]
    },
    {
      "cell_type": "code",
      "execution_count": null,
      "metadata": {
        "id": "6PC-K1RZ1MAW"
      },
      "outputs": [],
      "source": [
        "## create model with one bidirection LSTM"
      ]
    },
    {
      "cell_type": "code",
      "execution_count": 44,
      "metadata": {
        "id": "YB0OhrLF1k1F"
      },
      "outputs": [],
      "source": [
        "num_classes = 4\n",
        "model2 = tf.keras.Sequential([\n",
        "                              encoder\n",
        "                              ,tf.keras.layers.Embedding(input_dim=len(encoder.get_vocabulary())  #eahc input represents a word vector\n",
        "                              ,output_dim=64\n",
        "                                # Use masking to handle the variable sequence lengths\n",
        "                              ,mask_zero=True)\n",
        "                              ,tf.keras.layers.Conv1D(64, 5, padding='same', activation='relu') #64 represents the number of cells within the layer, which represents the size of a sequenze of tokens the model oversees a time\n",
        "                              ,tf.keras.layers.MaxPooling1D(pool_size=2, strides=1, padding=\"valid\")\n",
        "                              ,tf.keras.layers.Dropout(0.3)\n",
        "                              ,tf.keras.layers.Conv1D(128, 5, padding='same', activation='relu') #64 represents the number of cells within the layer, which represents the size of a sequenze of tokens the model oversees a time\n",
        "                              ,tf.keras.layers.MaxPooling1D(pool_size=2, strides=1, padding=\"valid\")\n",
        "                              ,tf.keras.layers.Dropout(0.3)\n",
        "                              ,tf.keras.layers.Flatten()\n",
        "                              ,tf.keras.layers.Dense(64, activation='relu')\n",
        "                              ,tf.keras.layers.Dense(num_classes,activation='softmax')   # num_classes = 4\n",
        "])"
      ]
    },
    {
      "cell_type": "code",
      "execution_count": 45,
      "metadata": {
        "id": "00ptv8t91k1F"
      },
      "outputs": [],
      "source": [
        "model2.compile(optimizer=tf.keras.optimizers.Adam(1e-4)\n",
        "              ,loss=tf.keras.losses.SparseCategoricalCrossentropy() # if we set from_logits=True we don not have specify a softmax activation function in the last layer\n",
        "              ,metrics=['accuracy'])"
      ]
    },
    {
      "cell_type": "code",
      "execution_count": 46,
      "metadata": {
        "colab": {
          "base_uri": "https://localhost:8080/"
        },
        "id": "gKkRQ6Gw1k1G",
        "outputId": "cbdb35bf-490c-401a-a13d-f792d646f2dc"
      },
      "outputs": [
        {
          "output_type": "stream",
          "name": "stdout",
          "text": [
            "Epoch 1/200\n",
            "1782/1782 [==============================] - 141s 78ms/step - loss: 0.6146 - accuracy: 0.7487 - val_loss: 0.3664 - val_accuracy: 0.8737\n",
            "Epoch 2/200\n",
            "1782/1782 [==============================] - 139s 78ms/step - loss: 0.3493 - accuracy: 0.8777 - val_loss: 0.3396 - val_accuracy: 0.8805\n",
            "Epoch 3/200\n",
            "1782/1782 [==============================] - 139s 78ms/step - loss: 0.3106 - accuracy: 0.8909 - val_loss: 0.3174 - val_accuracy: 0.8855\n",
            "Epoch 4/200\n",
            "1782/1782 [==============================] - 140s 78ms/step - loss: 0.2881 - accuracy: 0.8986 - val_loss: 0.3169 - val_accuracy: 0.8845\n",
            "Epoch 5/200\n",
            "1782/1782 [==============================] - 138s 77ms/step - loss: 0.2737 - accuracy: 0.9034 - val_loss: 0.3056 - val_accuracy: 0.8918\n",
            "Epoch 6/200\n",
            "1782/1782 [==============================] - 138s 78ms/step - loss: 0.2622 - accuracy: 0.9070 - val_loss: 0.3091 - val_accuracy: 0.8900\n",
            "Epoch 7/200\n",
            "1782/1782 [==============================] - 140s 78ms/step - loss: 0.2524 - accuracy: 0.9103 - val_loss: 0.3035 - val_accuracy: 0.8937\n",
            "Epoch 8/200\n",
            "1782/1782 [==============================] - 140s 78ms/step - loss: 0.2436 - accuracy: 0.9132 - val_loss: 0.3082 - val_accuracy: 0.8888\n",
            "Epoch 9/200\n",
            "1782/1782 [==============================] - 139s 78ms/step - loss: 0.2341 - accuracy: 0.9163 - val_loss: 0.3085 - val_accuracy: 0.8912\n"
          ]
        }
      ],
      "source": [
        "history2 = model2.fit(train_dataset\n",
        "                    ,epochs = 200\n",
        "                    ,validation_data=validation_dataset\n",
        "                    ,callbacks=[tf.keras.callbacks.EarlyStopping(monitor='val_accuracy', patience=2)]\n",
        "                    )"
      ]
    },
    {
      "cell_type": "code",
      "execution_count": 47,
      "metadata": {
        "colab": {
          "base_uri": "https://localhost:8080/"
        },
        "id": "hT0RNKsr1k1G",
        "outputId": "b7741207-c763-4656-9f9a-cda0b7714b29"
      },
      "outputs": [
        {
          "output_type": "stream",
          "name": "stdout",
          "text": [
            "119/119 [==============================] - 2s 20ms/step - loss: 0.3139 - accuracy: 0.8907\n"
          ]
        }
      ],
      "source": [
        "test_loss, test_acc = model2.evaluate(test_dataset)"
      ]
    },
    {
      "cell_type": "code",
      "execution_count": 48,
      "metadata": {
        "colab": {
          "base_uri": "https://localhost:8080/"
        },
        "id": "2WhHl9CE1k1G",
        "outputId": "4c04e708-e9c3-49c8-fef1-4d513b58c4dd"
      },
      "outputs": [
        {
          "output_type": "execute_result",
          "data": {
            "text/plain": [
              "dict_keys(['loss', 'accuracy', 'val_loss', 'val_accuracy'])"
            ]
          },
          "metadata": {},
          "execution_count": 48
        }
      ],
      "source": [
        "history_dict = history2.history\n",
        "history_dict.keys()"
      ]
    },
    {
      "cell_type": "code",
      "execution_count": 49,
      "metadata": {
        "colab": {
          "base_uri": "https://localhost:8080/",
          "height": 331
        },
        "id": "3eOaVWY11k1G",
        "outputId": "1e0ce902-d423-4d17-fa86-df298b0d9a93"
      },
      "outputs": [
        {
          "output_type": "execute_result",
          "data": {
            "text/html": [
              "\n",
              "  <div id=\"df-7017dc2f-ed38-4041-b3b3-dbb2825c5cc1\">\n",
              "    <div class=\"colab-df-container\">\n",
              "      <div>\n",
              "<style scoped>\n",
              "    .dataframe tbody tr th:only-of-type {\n",
              "        vertical-align: middle;\n",
              "    }\n",
              "\n",
              "    .dataframe tbody tr th {\n",
              "        vertical-align: top;\n",
              "    }\n",
              "\n",
              "    .dataframe thead th {\n",
              "        text-align: right;\n",
              "    }\n",
              "</style>\n",
              "<table border=\"1\" class=\"dataframe\">\n",
              "  <thead>\n",
              "    <tr style=\"text-align: right;\">\n",
              "      <th></th>\n",
              "      <th>loss</th>\n",
              "      <th>accuracy</th>\n",
              "      <th>val_loss</th>\n",
              "      <th>val_accuracy</th>\n",
              "    </tr>\n",
              "  </thead>\n",
              "  <tbody>\n",
              "    <tr>\n",
              "      <th>0</th>\n",
              "      <td>0.615</td>\n",
              "      <td>0.749</td>\n",
              "      <td>0.366</td>\n",
              "      <td>0.874</td>\n",
              "    </tr>\n",
              "    <tr>\n",
              "      <th>1</th>\n",
              "      <td>0.349</td>\n",
              "      <td>0.878</td>\n",
              "      <td>0.340</td>\n",
              "      <td>0.881</td>\n",
              "    </tr>\n",
              "    <tr>\n",
              "      <th>2</th>\n",
              "      <td>0.311</td>\n",
              "      <td>0.891</td>\n",
              "      <td>0.317</td>\n",
              "      <td>0.886</td>\n",
              "    </tr>\n",
              "    <tr>\n",
              "      <th>3</th>\n",
              "      <td>0.288</td>\n",
              "      <td>0.899</td>\n",
              "      <td>0.317</td>\n",
              "      <td>0.885</td>\n",
              "    </tr>\n",
              "    <tr>\n",
              "      <th>4</th>\n",
              "      <td>0.274</td>\n",
              "      <td>0.903</td>\n",
              "      <td>0.306</td>\n",
              "      <td>0.892</td>\n",
              "    </tr>\n",
              "    <tr>\n",
              "      <th>5</th>\n",
              "      <td>0.262</td>\n",
              "      <td>0.907</td>\n",
              "      <td>0.309</td>\n",
              "      <td>0.890</td>\n",
              "    </tr>\n",
              "    <tr>\n",
              "      <th>6</th>\n",
              "      <td>0.252</td>\n",
              "      <td>0.910</td>\n",
              "      <td>0.303</td>\n",
              "      <td>0.894</td>\n",
              "    </tr>\n",
              "    <tr>\n",
              "      <th>7</th>\n",
              "      <td>0.244</td>\n",
              "      <td>0.913</td>\n",
              "      <td>0.308</td>\n",
              "      <td>0.889</td>\n",
              "    </tr>\n",
              "    <tr>\n",
              "      <th>8</th>\n",
              "      <td>0.234</td>\n",
              "      <td>0.916</td>\n",
              "      <td>0.308</td>\n",
              "      <td>0.891</td>\n",
              "    </tr>\n",
              "  </tbody>\n",
              "</table>\n",
              "</div>\n",
              "      <button class=\"colab-df-convert\" onclick=\"convertToInteractive('df-7017dc2f-ed38-4041-b3b3-dbb2825c5cc1')\"\n",
              "              title=\"Convert this dataframe to an interactive table.\"\n",
              "              style=\"display:none;\">\n",
              "        \n",
              "  <svg xmlns=\"http://www.w3.org/2000/svg\" height=\"24px\"viewBox=\"0 0 24 24\"\n",
              "       width=\"24px\">\n",
              "    <path d=\"M0 0h24v24H0V0z\" fill=\"none\"/>\n",
              "    <path d=\"M18.56 5.44l.94 2.06.94-2.06 2.06-.94-2.06-.94-.94-2.06-.94 2.06-2.06.94zm-11 1L8.5 8.5l.94-2.06 2.06-.94-2.06-.94L8.5 2.5l-.94 2.06-2.06.94zm10 10l.94 2.06.94-2.06 2.06-.94-2.06-.94-.94-2.06-.94 2.06-2.06.94z\"/><path d=\"M17.41 7.96l-1.37-1.37c-.4-.4-.92-.59-1.43-.59-.52 0-1.04.2-1.43.59L10.3 9.45l-7.72 7.72c-.78.78-.78 2.05 0 2.83L4 21.41c.39.39.9.59 1.41.59.51 0 1.02-.2 1.41-.59l7.78-7.78 2.81-2.81c.8-.78.8-2.07 0-2.86zM5.41 20L4 18.59l7.72-7.72 1.47 1.35L5.41 20z\"/>\n",
              "  </svg>\n",
              "      </button>\n",
              "      \n",
              "  <style>\n",
              "    .colab-df-container {\n",
              "      display:flex;\n",
              "      flex-wrap:wrap;\n",
              "      gap: 12px;\n",
              "    }\n",
              "\n",
              "    .colab-df-convert {\n",
              "      background-color: #E8F0FE;\n",
              "      border: none;\n",
              "      border-radius: 50%;\n",
              "      cursor: pointer;\n",
              "      display: none;\n",
              "      fill: #1967D2;\n",
              "      height: 32px;\n",
              "      padding: 0 0 0 0;\n",
              "      width: 32px;\n",
              "    }\n",
              "\n",
              "    .colab-df-convert:hover {\n",
              "      background-color: #E2EBFA;\n",
              "      box-shadow: 0px 1px 2px rgba(60, 64, 67, 0.3), 0px 1px 3px 1px rgba(60, 64, 67, 0.15);\n",
              "      fill: #174EA6;\n",
              "    }\n",
              "\n",
              "    [theme=dark] .colab-df-convert {\n",
              "      background-color: #3B4455;\n",
              "      fill: #D2E3FC;\n",
              "    }\n",
              "\n",
              "    [theme=dark] .colab-df-convert:hover {\n",
              "      background-color: #434B5C;\n",
              "      box-shadow: 0px 1px 3px 1px rgba(0, 0, 0, 0.15);\n",
              "      filter: drop-shadow(0px 1px 2px rgba(0, 0, 0, 0.3));\n",
              "      fill: #FFFFFF;\n",
              "    }\n",
              "  </style>\n",
              "\n",
              "      <script>\n",
              "        const buttonEl =\n",
              "          document.querySelector('#df-7017dc2f-ed38-4041-b3b3-dbb2825c5cc1 button.colab-df-convert');\n",
              "        buttonEl.style.display =\n",
              "          google.colab.kernel.accessAllowed ? 'block' : 'none';\n",
              "\n",
              "        async function convertToInteractive(key) {\n",
              "          const element = document.querySelector('#df-7017dc2f-ed38-4041-b3b3-dbb2825c5cc1');\n",
              "          const dataTable =\n",
              "            await google.colab.kernel.invokeFunction('convertToInteractive',\n",
              "                                                     [key], {});\n",
              "          if (!dataTable) return;\n",
              "\n",
              "          const docLinkHtml = 'Like what you see? Visit the ' +\n",
              "            '<a target=\"_blank\" href=https://colab.research.google.com/notebooks/data_table.ipynb>data table notebook</a>'\n",
              "            + ' to learn more about interactive tables.';\n",
              "          element.innerHTML = '';\n",
              "          dataTable['output_type'] = 'display_data';\n",
              "          await google.colab.output.renderOutput(dataTable, element);\n",
              "          const docLink = document.createElement('div');\n",
              "          docLink.innerHTML = docLinkHtml;\n",
              "          element.appendChild(docLink);\n",
              "        }\n",
              "      </script>\n",
              "    </div>\n",
              "  </div>\n",
              "  "
            ],
            "text/plain": [
              "    loss  accuracy  val_loss  val_accuracy\n",
              "0  0.615     0.749     0.366         0.874\n",
              "1  0.349     0.878     0.340         0.881\n",
              "2  0.311     0.891     0.317         0.886\n",
              "3  0.288     0.899     0.317         0.885\n",
              "4  0.274     0.903     0.306         0.892\n",
              "5  0.262     0.907     0.309         0.890\n",
              "6  0.252     0.910     0.303         0.894\n",
              "7  0.244     0.913     0.308         0.889\n",
              "8  0.234     0.916     0.308         0.891"
            ]
          },
          "metadata": {},
          "execution_count": 49
        }
      ],
      "source": [
        "history_df=pd.DataFrame(history_dict)\n",
        "history_df.tail(10).round(3)"
      ]
    },
    {
      "cell_type": "code",
      "execution_count": 50,
      "metadata": {
        "id": "taHylLpb1k1G"
      },
      "outputs": [],
      "source": [
        "losses = history2.history['loss']\n",
        "accs = history2.history['accuracy']\n",
        "val_losses = history2.history['val_loss']\n",
        "val_accs = history2.history['val_accuracy']\n",
        "epochs = len(losses)"
      ]
    },
    {
      "cell_type": "code",
      "execution_count": 51,
      "metadata": {
        "colab": {
          "base_uri": "https://localhost:8080/",
          "height": 264
        },
        "id": "nN5XALax1k1G",
        "outputId": "20af9acc-e662-410f-edee-72d4de7b14dc"
      },
      "outputs": [
        {
          "output_type": "display_data",
          "data": {
            "image/png": "[encoded data removed]",
            "text/plain": [
              "<Figure size 1152x288 with 2 Axes>"
            ]
          },
          "metadata": {
            "needs_background": "light"
          }
        }
      ],
      "source": [
        "plt.figure(figsize=(16, 4))\n",
        "for i, metrics in enumerate(zip([losses, accs], [val_losses, val_accs], ['Loss', 'Accuracy'])):\n",
        "    plt.subplot(1, 2, i + 1)\n",
        "    plt.plot(range(epochs), metrics[0], label='Training {}'.format(metrics[2]))\n",
        "    plt.plot(range(epochs), metrics[1], label='Validation {}'.format(metrics[2]))\n",
        "    plt.legend()\n",
        "plt.show()"
      ]
    },
    {
      "cell_type": "code",
      "execution_count": 52,
      "metadata": {
        "id": "BqzMgMlg1L9x"
      },
      "outputs": [],
      "source": [
        "# track the test performance\n",
        "test_accuracy.append(test_acc)"
      ]
    },
    {
      "cell_type": "code",
      "execution_count": 53,
      "metadata": {
        "id": "VUfzuAMM1Lf_"
      },
      "outputs": [],
      "source": [
        "model_name =['model1','model2']\n",
        "model_descr =['1 CNN (64), 1 MaxPooling, 1 DNN (64)',\n",
        "              '2 CNN (64, 128), 2 MaxPooling, 2 Droput (0.3), 1 DNN (64)',\n",
        "             ]"
      ]
    },
    {
      "cell_type": "code",
      "execution_count": 54,
      "metadata": {
        "colab": {
          "base_uri": "https://localhost:8080/"
        },
        "id": "OCBjVrpe2g7t",
        "outputId": "f31cecff-3946-4353-e81f-2d8e6e064951"
      },
      "outputs": [
        {
          "output_type": "stream",
          "name": "stdout",
          "text": [
            "    model                                        description  test_accuracy\n",
            "0  model1               1 CNN (64), 1 MaxPooling, 1 DNN (64)       0.888289\n",
            "1  model2  2 CNN (64, 128), 2 MaxPooling, 2 Droput (0.3),...       0.890658\n"
          ]
        }
      ],
      "source": [
        "perf_dict = { 'model' : model_name,\n",
        "              'description': model_descr,\n",
        "              'test_accuracy': test_accuracy\n",
        "}\n",
        "\n",
        "df_perf = pd.DataFrame(perf_dict)\n",
        "print(df_perf)"
      ]
    },
    {
      "cell_type": "code",
      "execution_count": 55,
      "metadata": {
        "colab": {
          "base_uri": "https://localhost:8080/",
          "height": 283
        },
        "id": "HkyMYe3M3_2u",
        "outputId": "179008fa-f239-477f-dfcf-8ed21d5defab"
      },
      "outputs": [
        {
          "output_type": "execute_result",
          "data": {
            "text/plain": [
              "<matplotlib.axes._subplots.AxesSubplot at 0x7fc97791d990>"
            ]
          },
          "metadata": {},
          "execution_count": 55
        },
        {
          "output_type": "display_data",
          "data": {
            "image/png": "[encoded data removed]",
            "text/plain": [
              "<Figure size 432x288 with 1 Axes>"
            ]
          },
          "metadata": {
            "needs_background": "light"
          }
        }
      ],
      "source": [
        "df_perf.plot.barh(x='description', y='test_accuracy')"
      ]
    },
    {
      "cell_type": "code",
      "execution_count": null,
      "metadata": {
        "colab": {
          "base_uri": "https://localhost:8080/"
        },
        "id": "daJtOeUKAljX",
        "outputId": "53bd4e31-0f59-445c-c85f-e6b5a0518d19"
      },
      "outputs": [
        {
          "output_type": "stream",
          "name": "stdout",
          "text": [
            "Mounted at /content/gdrive/\n"
          ]
        }
      ],
      "source": [
        "from google.colab import drive\n",
        "drive.mount('/content/gdrive/')"
      ]
    },
    {
      "cell_type": "code",
      "execution_count": null,
      "metadata": {
        "colab": {
          "base_uri": "https://localhost:8080/"
        },
        "id": "S_ORTPg5_e0B",
        "outputId": "0ef02dd2-ddf8-4ee1-e625-0a9dca5cb920"
      },
      "outputs": [
        {
          "output_type": "stream",
          "name": "stdout",
          "text": [
            "[NbConvertApp] Converting notebook /content/gdrive/MyDrive/458_AI/Assignment3/Liu_Assignment3_Part3_LSTM.ipynb to html\n",
            "[NbConvertApp] Writing 746694 bytes to /content/gdrive/MyDrive/458_AI/Assignment3/Liu_Assignment3_Part3_LSTM.html\n"
          ]
        },
        {
          "output_type": "execute_result",
          "data": {
            "text/plain": [
              ""
            ]
          },
          "metadata": {},
          "execution_count": 114
        }
      ],
      "source": [
        "%%shell\n",
        "jupyter nbconvert --to html /content/gdrive/MyDrive/458_AI/Assignment3/Liu_Assignment3_Part3_LSTM.ipynb"
      ]
    }
  ],
  "metadata": {
    "colab": {
      "collapsed_sections": [],
      "machine_shape": "hm",
      "name": "Liu_Assignment3_Part4_CNN1D",
      "provenance": []
    },
    "kernelspec": {
      "display_name": "Python 3",
      "name": "python3"
    },
    "language_info": {
      "name": "python"
    }
  },
  "nbformat": 4,
  "nbformat_minor": 0
}